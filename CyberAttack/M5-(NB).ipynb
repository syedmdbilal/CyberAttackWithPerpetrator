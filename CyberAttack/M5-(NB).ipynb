{
 "cells": [
  {
   "cell_type": "markdown",
   "metadata": {},
   "source": [
    "# Module - 5"
   ]
  },
  {
   "cell_type": "markdown",
   "metadata": {},
   "source": [
    "GAUSSIAN NAIVE BAYES"
   ]
  },
  {
   "cell_type": "code",
   "execution_count": 1,
   "metadata": {},
   "outputs": [],
   "source": [
    "import pandas as p\n",
    "import numpy as n\n",
    "import matplotlib.pyplot as plt\n",
    "import seaborn as s"
   ]
  },
  {
   "cell_type": "code",
   "execution_count": 2,
   "metadata": {},
   "outputs": [],
   "source": [
    "import warnings\n",
    "warnings.filterwarnings('ignore')"
   ]
  },
  {
   "cell_type": "code",
   "execution_count": 3,
   "metadata": {},
   "outputs": [],
   "source": [
    "data=p.read_csv('data.csv')"
   ]
  },
  {
   "cell_type": "code",
   "execution_count": 4,
   "metadata": {},
   "outputs": [
    {
     "data": {
      "text/plain": [
       "Index(['S.No', 'Crime', 'Gender', 'Age', 'Income', 'Job', 'Maritalstatus',\n",
       "       'Education', 'Harm', 'Attack', 'AttackMethod', 'Perpetrator'],\n",
       "      dtype='object')"
      ]
     },
     "execution_count": 4,
     "metadata": {},
     "output_type": "execute_result"
    }
   ],
   "source": [
    "data.columns"
   ]
  },
  {
   "cell_type": "code",
   "execution_count": 5,
   "metadata": {},
   "outputs": [],
   "source": [
    "df=data.dropna()"
   ]
  },
  {
   "cell_type": "code",
   "execution_count": 6,
   "metadata": {},
   "outputs": [
    {
     "data": {
      "text/html": [
       "<div>\n",
       "<style scoped>\n",
       "    .dataframe tbody tr th:only-of-type {\n",
       "        vertical-align: middle;\n",
       "    }\n",
       "\n",
       "    .dataframe tbody tr th {\n",
       "        vertical-align: top;\n",
       "    }\n",
       "\n",
       "    .dataframe thead th {\n",
       "        text-align: right;\n",
       "    }\n",
       "</style>\n",
       "<table border=\"1\" class=\"dataframe\">\n",
       "  <thead>\n",
       "    <tr style=\"text-align: right;\">\n",
       "      <th></th>\n",
       "      <th>S.No</th>\n",
       "      <th>Crime</th>\n",
       "      <th>Gender</th>\n",
       "      <th>Age</th>\n",
       "      <th>Income</th>\n",
       "      <th>Job</th>\n",
       "      <th>Maritalstatus</th>\n",
       "      <th>Education</th>\n",
       "      <th>Harm</th>\n",
       "      <th>Attack</th>\n",
       "      <th>AttackMethod</th>\n",
       "      <th>Perpetrator</th>\n",
       "    </tr>\n",
       "  </thead>\n",
       "  <tbody>\n",
       "    <tr>\n",
       "      <th>0</th>\n",
       "      <td>0</td>\n",
       "      <td>Misuse of Debit Cards or Credit Cards</td>\n",
       "      <td>Male</td>\n",
       "      <td>Between 38 and 50</td>\n",
       "      <td>Middle</td>\n",
       "      <td>Technical</td>\n",
       "      <td>Married</td>\n",
       "      <td>Primary Education</td>\n",
       "      <td>Fraud</td>\n",
       "      <td>Hacking Social Media Accounts</td>\n",
       "      <td>Creating a Fake Shopping Site</td>\n",
       "      <td>UnKnown</td>\n",
       "    </tr>\n",
       "    <tr>\n",
       "      <th>1</th>\n",
       "      <td>1</td>\n",
       "      <td>Misuse of Debit Cards or Credit Cards</td>\n",
       "      <td>Female</td>\n",
       "      <td>27 and Under</td>\n",
       "      <td>Low</td>\n",
       "      <td>Student</td>\n",
       "      <td>Single</td>\n",
       "      <td>High School</td>\n",
       "      <td>Internet Shopping Out of Knowledge</td>\n",
       "      <td>Hacking Social Media Accounts</td>\n",
       "      <td>Social Engineering</td>\n",
       "      <td>UnKnown</td>\n",
       "    </tr>\n",
       "    <tr>\n",
       "      <th>2</th>\n",
       "      <td>2</td>\n",
       "      <td>Misuse of Debit Cards or Credit Cards</td>\n",
       "      <td>Male</td>\n",
       "      <td>Between 38 and 50</td>\n",
       "      <td>Low</td>\n",
       "      <td>Retired</td>\n",
       "      <td>Married</td>\n",
       "      <td>Primary Education</td>\n",
       "      <td>Internet Shopping Out of Knowledge</td>\n",
       "      <td>Hacking Social Media Accounts</td>\n",
       "      <td>Social Engineering</td>\n",
       "      <td>UnKnown</td>\n",
       "    </tr>\n",
       "    <tr>\n",
       "      <th>3</th>\n",
       "      <td>3</td>\n",
       "      <td>Misuse of Debit Cards or Credit Cards</td>\n",
       "      <td>Male</td>\n",
       "      <td>Between 38 and 50</td>\n",
       "      <td>Low</td>\n",
       "      <td>Technical</td>\n",
       "      <td>Married</td>\n",
       "      <td>High School</td>\n",
       "      <td>Internet Shopping by Intoducing Himself as a B...</td>\n",
       "      <td>Hacking Social Media Accounts</td>\n",
       "      <td>Social Engineering</td>\n",
       "      <td>UnKnown</td>\n",
       "    </tr>\n",
       "    <tr>\n",
       "      <th>4</th>\n",
       "      <td>4</td>\n",
       "      <td>Misuse of Debit Cards or Credit Cards</td>\n",
       "      <td>Male</td>\n",
       "      <td>Between 38 and 50</td>\n",
       "      <td>Low</td>\n",
       "      <td>Others</td>\n",
       "      <td>Married</td>\n",
       "      <td>High School</td>\n",
       "      <td>Internet Shopping Out of Knowledge</td>\n",
       "      <td>Hacking Social Media Accounts</td>\n",
       "      <td>Social Engineering</td>\n",
       "      <td>Known</td>\n",
       "    </tr>\n",
       "    <tr>\n",
       "      <th>...</th>\n",
       "      <td>...</td>\n",
       "      <td>...</td>\n",
       "      <td>...</td>\n",
       "      <td>...</td>\n",
       "      <td>...</td>\n",
       "      <td>...</td>\n",
       "      <td>...</td>\n",
       "      <td>...</td>\n",
       "      <td>...</td>\n",
       "      <td>...</td>\n",
       "      <td>...</td>\n",
       "      <td>...</td>\n",
       "    </tr>\n",
       "    <tr>\n",
       "      <th>1797</th>\n",
       "      <td>1797</td>\n",
       "      <td>Through Informatics Theft</td>\n",
       "      <td>Male</td>\n",
       "      <td>51 and Above</td>\n",
       "      <td>Middle</td>\n",
       "      <td>Education</td>\n",
       "      <td>Married</td>\n",
       "      <td>High School</td>\n",
       "      <td>Do Moral Harm</td>\n",
       "      <td>Obtaining and Using Data in Digital Environment</td>\n",
       "      <td>Social Engineering</td>\n",
       "      <td>Known</td>\n",
       "    </tr>\n",
       "    <tr>\n",
       "      <th>1798</th>\n",
       "      <td>1798</td>\n",
       "      <td>Through Informatics Theft</td>\n",
       "      <td>Male</td>\n",
       "      <td>51 and Above</td>\n",
       "      <td>Low</td>\n",
       "      <td>Retired</td>\n",
       "      <td>Married</td>\n",
       "      <td>High School</td>\n",
       "      <td>Withdrawals Without Knowledge</td>\n",
       "      <td>Obtaining and Using Data in Digital Environment</td>\n",
       "      <td>Social Engineering</td>\n",
       "      <td>UnKnown</td>\n",
       "    </tr>\n",
       "    <tr>\n",
       "      <th>1799</th>\n",
       "      <td>1799</td>\n",
       "      <td>Through Informatics Theft</td>\n",
       "      <td>Female</td>\n",
       "      <td>27 and Under</td>\n",
       "      <td>Low</td>\n",
       "      <td>Technical</td>\n",
       "      <td>Single</td>\n",
       "      <td>Primary Education</td>\n",
       "      <td>Withdrawals Without Knowledge</td>\n",
       "      <td>Obtaining and Using Data in Digital Environment</td>\n",
       "      <td>Social Engineering</td>\n",
       "      <td>UnKnown</td>\n",
       "    </tr>\n",
       "    <tr>\n",
       "      <th>1800</th>\n",
       "      <td>1800</td>\n",
       "      <td>Through Informatics Theft</td>\n",
       "      <td>Female</td>\n",
       "      <td>Between 38 and 50</td>\n",
       "      <td>Low</td>\n",
       "      <td>Housewife</td>\n",
       "      <td>Married</td>\n",
       "      <td>High School</td>\n",
       "      <td>Withdrawals Without Knowledge</td>\n",
       "      <td>Obtaining and Using Data in Digital Environment</td>\n",
       "      <td>Social Engineering</td>\n",
       "      <td>UnKnown</td>\n",
       "    </tr>\n",
       "    <tr>\n",
       "      <th>1801</th>\n",
       "      <td>1801</td>\n",
       "      <td>Through Informatics Theft</td>\n",
       "      <td>Female</td>\n",
       "      <td>27 and Under</td>\n",
       "      <td>Middle</td>\n",
       "      <td>Technical</td>\n",
       "      <td>Single</td>\n",
       "      <td>High School</td>\n",
       "      <td>Withdrawals Without Knowledge</td>\n",
       "      <td>Copying Bank / ATM Cards</td>\n",
       "      <td>Receiving Public Data on Social Media</td>\n",
       "      <td>UnKnown</td>\n",
       "    </tr>\n",
       "  </tbody>\n",
       "</table>\n",
       "<p>1802 rows × 12 columns</p>\n",
       "</div>"
      ],
      "text/plain": [
       "      S.No                                  Crime  Gender                Age  \\\n",
       "0        0  Misuse of Debit Cards or Credit Cards    Male  Between 38 and 50   \n",
       "1        1  Misuse of Debit Cards or Credit Cards  Female       27 and Under   \n",
       "2        2  Misuse of Debit Cards or Credit Cards    Male  Between 38 and 50   \n",
       "3        3  Misuse of Debit Cards or Credit Cards    Male  Between 38 and 50   \n",
       "4        4  Misuse of Debit Cards or Credit Cards    Male  Between 38 and 50   \n",
       "...    ...                                    ...     ...                ...   \n",
       "1797  1797              Through Informatics Theft    Male       51 and Above   \n",
       "1798  1798              Through Informatics Theft    Male       51 and Above   \n",
       "1799  1799              Through Informatics Theft  Female       27 and Under   \n",
       "1800  1800              Through Informatics Theft  Female  Between 38 and 50   \n",
       "1801  1801              Through Informatics Theft  Female       27 and Under   \n",
       "\n",
       "      Income        Job Maritalstatus          Education  \\\n",
       "0     Middle  Technical       Married  Primary Education   \n",
       "1        Low    Student        Single        High School   \n",
       "2        Low    Retired       Married  Primary Education   \n",
       "3        Low  Technical       Married        High School   \n",
       "4        Low     Others       Married        High School   \n",
       "...      ...        ...           ...                ...   \n",
       "1797  Middle  Education       Married        High School   \n",
       "1798     Low    Retired       Married        High School   \n",
       "1799     Low  Technical        Single  Primary Education   \n",
       "1800     Low  Housewife       Married        High School   \n",
       "1801  Middle  Technical        Single        High School   \n",
       "\n",
       "                                                   Harm  \\\n",
       "0                                                 Fraud   \n",
       "1                    Internet Shopping Out of Knowledge   \n",
       "2                    Internet Shopping Out of Knowledge   \n",
       "3     Internet Shopping by Intoducing Himself as a B...   \n",
       "4                    Internet Shopping Out of Knowledge   \n",
       "...                                                 ...   \n",
       "1797                                      Do Moral Harm   \n",
       "1798                      Withdrawals Without Knowledge   \n",
       "1799                      Withdrawals Without Knowledge   \n",
       "1800                      Withdrawals Without Knowledge   \n",
       "1801                      Withdrawals Without Knowledge   \n",
       "\n",
       "                                               Attack  \\\n",
       "0                       Hacking Social Media Accounts   \n",
       "1                       Hacking Social Media Accounts   \n",
       "2                       Hacking Social Media Accounts   \n",
       "3                       Hacking Social Media Accounts   \n",
       "4                       Hacking Social Media Accounts   \n",
       "...                                               ...   \n",
       "1797  Obtaining and Using Data in Digital Environment   \n",
       "1798  Obtaining and Using Data in Digital Environment   \n",
       "1799  Obtaining and Using Data in Digital Environment   \n",
       "1800  Obtaining and Using Data in Digital Environment   \n",
       "1801                         Copying Bank / ATM Cards   \n",
       "\n",
       "                               AttackMethod Perpetrator  \n",
       "0             Creating a Fake Shopping Site     UnKnown  \n",
       "1                        Social Engineering     UnKnown  \n",
       "2                        Social Engineering     UnKnown  \n",
       "3                        Social Engineering     UnKnown  \n",
       "4                        Social Engineering       Known  \n",
       "...                                     ...         ...  \n",
       "1797                     Social Engineering       Known  \n",
       "1798                     Social Engineering     UnKnown  \n",
       "1799                     Social Engineering     UnKnown  \n",
       "1800                     Social Engineering     UnKnown  \n",
       "1801  Receiving Public Data on Social Media     UnKnown  \n",
       "\n",
       "[1802 rows x 12 columns]"
      ]
     },
     "execution_count": 6,
     "metadata": {},
     "output_type": "execute_result"
    }
   ],
   "source": [
    "df"
   ]
  },
  {
   "cell_type": "code",
   "execution_count": 7,
   "metadata": {},
   "outputs": [],
   "source": [
    "from sklearn.preprocessing import LabelEncoder\n",
    "l = LabelEncoder()\n",
    "columns = ['S.No','Crime', 'Gender', 'Age', 'Income', 'Job', 'Maritalstatus',\n",
    "       'Education', 'Harm', 'Attack', 'AttackMethod', 'Perpetrator']\n",
    "for column in columns:\n",
    "    df[column] = l.fit_transform(df[column]).astype(int)"
   ]
  },
  {
   "cell_type": "code",
   "execution_count": 8,
   "metadata": {},
   "outputs": [
    {
     "data": {
      "text/html": [
       "<div>\n",
       "<style scoped>\n",
       "    .dataframe tbody tr th:only-of-type {\n",
       "        vertical-align: middle;\n",
       "    }\n",
       "\n",
       "    .dataframe tbody tr th {\n",
       "        vertical-align: top;\n",
       "    }\n",
       "\n",
       "    .dataframe thead th {\n",
       "        text-align: right;\n",
       "    }\n",
       "</style>\n",
       "<table border=\"1\" class=\"dataframe\">\n",
       "  <thead>\n",
       "    <tr style=\"text-align: right;\">\n",
       "      <th></th>\n",
       "      <th>S.No</th>\n",
       "      <th>Crime</th>\n",
       "      <th>Gender</th>\n",
       "      <th>Age</th>\n",
       "      <th>Income</th>\n",
       "      <th>Job</th>\n",
       "      <th>Maritalstatus</th>\n",
       "      <th>Education</th>\n",
       "      <th>Harm</th>\n",
       "      <th>Attack</th>\n",
       "      <th>AttackMethod</th>\n",
       "      <th>Perpetrator</th>\n",
       "    </tr>\n",
       "  </thead>\n",
       "  <tbody>\n",
       "    <tr>\n",
       "      <th>0</th>\n",
       "      <td>0</td>\n",
       "      <td>1</td>\n",
       "      <td>1</td>\n",
       "      <td>3</td>\n",
       "      <td>2</td>\n",
       "      <td>9</td>\n",
       "      <td>0</td>\n",
       "      <td>2</td>\n",
       "      <td>1</td>\n",
       "      <td>1</td>\n",
       "      <td>1</td>\n",
       "      <td>1</td>\n",
       "    </tr>\n",
       "    <tr>\n",
       "      <th>1</th>\n",
       "      <td>1</td>\n",
       "      <td>1</td>\n",
       "      <td>0</td>\n",
       "      <td>0</td>\n",
       "      <td>1</td>\n",
       "      <td>8</td>\n",
       "      <td>1</td>\n",
       "      <td>1</td>\n",
       "      <td>2</td>\n",
       "      <td>1</td>\n",
       "      <td>5</td>\n",
       "      <td>1</td>\n",
       "    </tr>\n",
       "    <tr>\n",
       "      <th>2</th>\n",
       "      <td>2</td>\n",
       "      <td>1</td>\n",
       "      <td>1</td>\n",
       "      <td>3</td>\n",
       "      <td>1</td>\n",
       "      <td>7</td>\n",
       "      <td>0</td>\n",
       "      <td>2</td>\n",
       "      <td>2</td>\n",
       "      <td>1</td>\n",
       "      <td>5</td>\n",
       "      <td>1</td>\n",
       "    </tr>\n",
       "    <tr>\n",
       "      <th>3</th>\n",
       "      <td>3</td>\n",
       "      <td>1</td>\n",
       "      <td>1</td>\n",
       "      <td>3</td>\n",
       "      <td>1</td>\n",
       "      <td>9</td>\n",
       "      <td>0</td>\n",
       "      <td>1</td>\n",
       "      <td>3</td>\n",
       "      <td>1</td>\n",
       "      <td>5</td>\n",
       "      <td>1</td>\n",
       "    </tr>\n",
       "    <tr>\n",
       "      <th>4</th>\n",
       "      <td>4</td>\n",
       "      <td>1</td>\n",
       "      <td>1</td>\n",
       "      <td>3</td>\n",
       "      <td>1</td>\n",
       "      <td>6</td>\n",
       "      <td>0</td>\n",
       "      <td>1</td>\n",
       "      <td>2</td>\n",
       "      <td>1</td>\n",
       "      <td>5</td>\n",
       "      <td>0</td>\n",
       "    </tr>\n",
       "    <tr>\n",
       "      <th>...</th>\n",
       "      <td>...</td>\n",
       "      <td>...</td>\n",
       "      <td>...</td>\n",
       "      <td>...</td>\n",
       "      <td>...</td>\n",
       "      <td>...</td>\n",
       "      <td>...</td>\n",
       "      <td>...</td>\n",
       "      <td>...</td>\n",
       "      <td>...</td>\n",
       "      <td>...</td>\n",
       "      <td>...</td>\n",
       "    </tr>\n",
       "    <tr>\n",
       "      <th>1797</th>\n",
       "      <td>1797</td>\n",
       "      <td>2</td>\n",
       "      <td>1</td>\n",
       "      <td>1</td>\n",
       "      <td>2</td>\n",
       "      <td>0</td>\n",
       "      <td>0</td>\n",
       "      <td>1</td>\n",
       "      <td>0</td>\n",
       "      <td>3</td>\n",
       "      <td>5</td>\n",
       "      <td>0</td>\n",
       "    </tr>\n",
       "    <tr>\n",
       "      <th>1798</th>\n",
       "      <td>1798</td>\n",
       "      <td>2</td>\n",
       "      <td>1</td>\n",
       "      <td>1</td>\n",
       "      <td>1</td>\n",
       "      <td>7</td>\n",
       "      <td>0</td>\n",
       "      <td>1</td>\n",
       "      <td>5</td>\n",
       "      <td>3</td>\n",
       "      <td>5</td>\n",
       "      <td>1</td>\n",
       "    </tr>\n",
       "    <tr>\n",
       "      <th>1799</th>\n",
       "      <td>1799</td>\n",
       "      <td>2</td>\n",
       "      <td>0</td>\n",
       "      <td>0</td>\n",
       "      <td>1</td>\n",
       "      <td>9</td>\n",
       "      <td>1</td>\n",
       "      <td>2</td>\n",
       "      <td>5</td>\n",
       "      <td>3</td>\n",
       "      <td>5</td>\n",
       "      <td>1</td>\n",
       "    </tr>\n",
       "    <tr>\n",
       "      <th>1800</th>\n",
       "      <td>1800</td>\n",
       "      <td>2</td>\n",
       "      <td>0</td>\n",
       "      <td>3</td>\n",
       "      <td>1</td>\n",
       "      <td>3</td>\n",
       "      <td>0</td>\n",
       "      <td>1</td>\n",
       "      <td>5</td>\n",
       "      <td>3</td>\n",
       "      <td>5</td>\n",
       "      <td>1</td>\n",
       "    </tr>\n",
       "    <tr>\n",
       "      <th>1801</th>\n",
       "      <td>1801</td>\n",
       "      <td>2</td>\n",
       "      <td>0</td>\n",
       "      <td>0</td>\n",
       "      <td>2</td>\n",
       "      <td>9</td>\n",
       "      <td>1</td>\n",
       "      <td>1</td>\n",
       "      <td>5</td>\n",
       "      <td>0</td>\n",
       "      <td>4</td>\n",
       "      <td>1</td>\n",
       "    </tr>\n",
       "  </tbody>\n",
       "</table>\n",
       "<p>1802 rows × 12 columns</p>\n",
       "</div>"
      ],
      "text/plain": [
       "      S.No  Crime  Gender  Age  Income  Job  Maritalstatus  Education  Harm  \\\n",
       "0        0      1       1    3       2    9              0          2     1   \n",
       "1        1      1       0    0       1    8              1          1     2   \n",
       "2        2      1       1    3       1    7              0          2     2   \n",
       "3        3      1       1    3       1    9              0          1     3   \n",
       "4        4      1       1    3       1    6              0          1     2   \n",
       "...    ...    ...     ...  ...     ...  ...            ...        ...   ...   \n",
       "1797  1797      2       1    1       2    0              0          1     0   \n",
       "1798  1798      2       1    1       1    7              0          1     5   \n",
       "1799  1799      2       0    0       1    9              1          2     5   \n",
       "1800  1800      2       0    3       1    3              0          1     5   \n",
       "1801  1801      2       0    0       2    9              1          1     5   \n",
       "\n",
       "      Attack  AttackMethod  Perpetrator  \n",
       "0          1             1            1  \n",
       "1          1             5            1  \n",
       "2          1             5            1  \n",
       "3          1             5            1  \n",
       "4          1             5            0  \n",
       "...      ...           ...          ...  \n",
       "1797       3             5            0  \n",
       "1798       3             5            1  \n",
       "1799       3             5            1  \n",
       "1800       3             5            1  \n",
       "1801       0             4            1  \n",
       "\n",
       "[1802 rows x 12 columns]"
      ]
     },
     "execution_count": 8,
     "metadata": {},
     "output_type": "execute_result"
    }
   ],
   "source": [
    "df"
   ]
  },
  {
   "cell_type": "markdown",
   "metadata": {},
   "source": [
    "# Attack"
   ]
  },
  {
   "cell_type": "code",
   "execution_count": 9,
   "metadata": {},
   "outputs": [],
   "source": [
    "#preprocessing, split test and dataset, split response variable\n",
    "X = df[['Crime', 'Gender', 'Age', 'Income', 'Job', 'Maritalstatus', 'Education', 'Harm', 'Attack']]\n",
    "#Response variable\n",
    "y = df['AttackMethod']"
   ]
  },
  {
   "cell_type": "code",
   "execution_count": 10,
   "metadata": {},
   "outputs": [
    {
     "name": "stdout",
     "output_type": "stream",
     "text": [
      "OUR DATASET COUNT         :  Counter({5: 964, 1: 280, 4: 224, 0: 134, 2: 108, 3: 92})\n",
      "OVER SAMPLING DATA COUNT  :  Counter({1: 964, 5: 964, 2: 964, 0: 964, 4: 964, 3: 964})\n"
     ]
    }
   ],
   "source": [
    "import imblearn\n",
    "from imblearn.over_sampling import RandomOverSampler\n",
    "from collections import Counter\n",
    "\n",
    "ros =RandomOverSampler(random_state=42)\n",
    "x_ros,y_ros=ros.fit_resample(X,y)\n",
    "print(\"OUR DATASET COUNT         : \", Counter(y))\n",
    "print(\"OVER SAMPLING DATA COUNT  : \", Counter(y_ros))"
   ]
  },
  {
   "cell_type": "code",
   "execution_count": 11,
   "metadata": {},
   "outputs": [
    {
     "name": "stdout",
     "output_type": "stream",
     "text": [
      "Number of training dataset :  4048\n",
      "Number of test dataset     :  1736\n",
      "Total number of dataset    :  5784\n"
     ]
    }
   ],
   "source": [
    "from sklearn.model_selection import train_test_split\n",
    "X_train, X_test, y_train, y_test = train_test_split(x_ros, y_ros, test_size=0.30, random_state=1, stratify=y_ros)\n",
    "print(\"Number of training dataset : \", len(X_train))\n",
    "print(\"Number of test dataset     : \", len(X_test))\n",
    "print(\"Total number of dataset    : \", len(X_train)+len(X_test))"
   ]
  },
  {
   "cell_type": "code",
   "execution_count": 12,
   "metadata": {},
   "outputs": [],
   "source": [
    "from sklearn.metrics import confusion_matrix, classification_report"
   ]
  },
  {
   "cell_type": "code",
   "execution_count": 14,
   "metadata": {},
   "outputs": [
    {
     "name": "stdout",
     "output_type": "stream",
     "text": [
      "\n",
      "Classification report of Gaussian Naive Bayes Result is:\n",
      "\n",
      "              precision    recall  f1-score   support\n",
      "\n",
      "           0       0.66      0.81      0.73       289\n",
      "           1       0.69      0.90      0.78       289\n",
      "           2       1.00      1.00      1.00       289\n",
      "           3       1.00      1.00      1.00       290\n",
      "           4       1.00      1.00      1.00       289\n",
      "           5       0.78      0.37      0.50       290\n",
      "\n",
      "    accuracy                           0.85      1736\n",
      "   macro avg       0.86      0.85      0.84      1736\n",
      "weighted avg       0.86      0.85      0.84      1736\n",
      "\n",
      "\n",
      "Confusion Matrix result of Gaussian Naive Bayes is:\n",
      " [[235  54   0   0   0   0]\n",
      " [  0 259   0   0   0  30]\n",
      " [  0   0 289   0   0   0]\n",
      " [  0   0   0 290   0   0]\n",
      " [  0   0   0   0 289   0]\n",
      " [120  62   0   0   0 108]]\n",
      "\n",
      "Cross validation test results of accuracy:\n",
      "[0.7960242  0.85393258 0.87899741 0.79775281 0.87975779]\n",
      "\n",
      "Accuracy Result of Gaussian Naive Bayes is: 84.12929572662865\n"
     ]
    }
   ],
   "source": [
    "from sklearn.metrics import accuracy_score\n",
    "from sklearn.naive_bayes import GaussianNB\n",
    "from sklearn.model_selection import cross_val_score\n",
    "\n",
    "nb = GaussianNB()\n",
    "\n",
    "nb.fit(X_train,y_train)\n",
    "\n",
    "predictNB = nb.predict(X_test)\n",
    "\n",
    "print(\"\")\n",
    "print('Classification report of Gaussian Naive Bayes Result is:')\n",
    "print(\"\")\n",
    "print(classification_report(y_test,predictNB))\n",
    "print(\"\")\n",
    "\n",
    "cm=confusion_matrix(y_test,predictNB)\n",
    "print('Confusion Matrix result of Gaussian Naive Bayes is:\\n',cm)\n",
    "print(\"\")\n",
    "\n",
    "accuracy = cross_val_score(nb, x_ros, y_ros, scoring='accuracy')\n",
    "print('Cross validation test results of accuracy:')\n",
    "print(accuracy)\n",
    "\n",
    "print(\"\")\n",
    "print(\"Accuracy Result of Gaussian Naive Bayes is:\",accuracy.mean() * 100)\n",
    "gnb=accuracy.mean() * 100"
   ]
  },
  {
   "cell_type": "code",
   "execution_count": 15,
   "metadata": {},
   "outputs": [
    {
     "data": {
      "image/png": "[encoded data removed]",
      "text/plain": [
       "<Figure size 360x360 with 1 Axes>"
      ]
     },
     "metadata": {
      "needs_background": "light"
     },
     "output_type": "display_data"
    }
   ],
   "source": [
    "def Bar_Chart():\n",
    "    import matplotlib.pyplot as plt\n",
    "    data=[gnb]\n",
    "    alg=\"Gaussian Naive Bayes\"\n",
    "    plt.figure(figsize=(5,5))\n",
    "    b=plt.bar(alg,data,color=(\"Blue\"))\n",
    "    plt.title(\"Accuracy Result of Gaussian Naive Bayes\",fontsize=15)\n",
    "    plt.legend(b,data,fontsize=9)\n",
    "Bar_Chart()"
   ]
  },
  {
   "cell_type": "code",
   "execution_count": 16,
   "metadata": {},
   "outputs": [
    {
     "name": "stdout",
     "output_type": "stream",
     "text": [
      "Confusion matrix-Gaussian Naive Bayes:\n",
      "[[235  54   0   0   0   0]\n",
      " [  0 259   0   0   0  30]\n",
      " [  0   0 289   0   0   0]\n",
      " [  0   0   0 290   0   0]\n",
      " [  0   0   0   0 289   0]\n",
      " [120  62   0   0   0 108]]\n"
     ]
    },
    {
     "data": {
      "image/png": "[encoded data removed]",
      "text/plain": [
       "<Figure size 432x288 with 2 Axes>"
      ]
     },
     "metadata": {
      "needs_background": "light"
     },
     "output_type": "display_data"
    }
   ],
   "source": [
    "def plot_confusion_matrix(cm, title='Confusion matrix-Gaussian Naive Bayes', cmap=plt.cm.BuPu):\n",
    "    plt.imshow(cm, interpolation='nearest', cmap=cmap)\n",
    "    plt.title(title)\n",
    "    plt.colorbar()\n",
    "\n",
    "cm1=confusion_matrix(y_test, predictNB)\n",
    "print('Confusion matrix-Gaussian Naive Bayes:')\n",
    "print(cm)\n",
    "plot_confusion_matrix(cm)"
   ]
  },
  {
   "cell_type": "code",
   "execution_count": null,
   "metadata": {},
   "outputs": [],
   "source": []
  },
  {
   "cell_type": "markdown",
   "metadata": {},
   "source": [
    "# Perpetrator"
   ]
  },
  {
   "cell_type": "code",
   "execution_count": 17,
   "metadata": {},
   "outputs": [
    {
     "data": {
      "text/plain": [
       "Index(['S.No', 'Crime', 'Gender', 'Age', 'Income', 'Job', 'Maritalstatus',\n",
       "       'Education', 'Harm', 'Attack', 'AttackMethod', 'Perpetrator'],\n",
       "      dtype='object')"
      ]
     },
     "execution_count": 17,
     "metadata": {},
     "output_type": "execute_result"
    }
   ],
   "source": [
    "df.columns"
   ]
  },
  {
   "cell_type": "code",
   "execution_count": 18,
   "metadata": {},
   "outputs": [],
   "source": [
    "#preprocessing, split test and dataset, split response variable\n",
    "X = df[['Crime', 'Gender', 'Age', 'Income', 'Job', 'Maritalstatus', 'Education', 'Harm', 'Attack', 'AttackMethod']]\n",
    "#Response variable\n",
    "y = df['Perpetrator']"
   ]
  },
  {
   "cell_type": "code",
   "execution_count": 19,
   "metadata": {},
   "outputs": [
    {
     "name": "stdout",
     "output_type": "stream",
     "text": [
      "OUR DATASET COUNT         :  Counter({1: 1020, 0: 782})\n",
      "OVER SAMPLING DATA COUNT  :  Counter({1: 1020, 0: 1020})\n"
     ]
    }
   ],
   "source": [
    "import imblearn\n",
    "from imblearn.over_sampling import RandomOverSampler\n",
    "from collections import Counter\n",
    "\n",
    "ros =RandomOverSampler(random_state=42)\n",
    "x_ros,y_ros=ros.fit_resample(X,y)\n",
    "print(\"OUR DATASET COUNT         : \", Counter(y))\n",
    "print(\"OVER SAMPLING DATA COUNT  : \", Counter(y_ros))"
   ]
  },
  {
   "cell_type": "code",
   "execution_count": 20,
   "metadata": {},
   "outputs": [
    {
     "name": "stdout",
     "output_type": "stream",
     "text": [
      "Number of training dataset :  1428\n",
      "Number of test dataset     :  612\n",
      "Total number of dataset    :  2040\n"
     ]
    }
   ],
   "source": [
    "from sklearn.model_selection import train_test_split\n",
    "X_train, X_test, y_train, y_test = train_test_split(x_ros, y_ros, test_size=0.30, random_state=1, stratify=y_ros)\n",
    "print(\"Number of training dataset : \", len(X_train))\n",
    "print(\"Number of test dataset     : \", len(X_test))\n",
    "print(\"Total number of dataset    : \", len(X_train)+len(X_test))"
   ]
  },
  {
   "cell_type": "code",
   "execution_count": 21,
   "metadata": {},
   "outputs": [
    {
     "name": "stdout",
     "output_type": "stream",
     "text": [
      "\n",
      "Classification report of Gaussian Naive Bayes Result is:\n",
      "\n",
      "              precision    recall  f1-score   support\n",
      "\n",
      "           0       0.70      0.71      0.70       306\n",
      "           1       0.71      0.69      0.70       306\n",
      "\n",
      "    accuracy                           0.70       612\n",
      "   macro avg       0.70      0.70      0.70       612\n",
      "weighted avg       0.70      0.70      0.70       612\n",
      "\n",
      "\n",
      "Confusion Matrix result of Gaussian Naive Bayes is:\n",
      " [[218  88]\n",
      " [ 95 211]]\n",
      "\n",
      "Cross validation test results of accuracy:\n",
      "[0.56372549 0.65441176 0.65196078 0.42156863 0.72794118]\n",
      "\n",
      "Accuracy Result of Gaussian Naive Bayes is: 60.3921568627451\n"
     ]
    }
   ],
   "source": [
    "from sklearn.metrics import accuracy_score\n",
    "from sklearn.naive_bayes import GaussianNB\n",
    "from sklearn.model_selection import cross_val_score\n",
    "\n",
    "nb = GaussianNB()\n",
    "\n",
    "nb.fit(X_train,y_train)\n",
    "\n",
    "predictNB = nb.predict(X_test)\n",
    "\n",
    "print(\"\")\n",
    "print('Classification report of Gaussian Naive Bayes Result is:')\n",
    "print(\"\")\n",
    "print(classification_report(y_test,predictNB))\n",
    "print(\"\")\n",
    "\n",
    "cm=confusion_matrix(y_test,predictNB)\n",
    "print('Confusion Matrix result of Gaussian Naive Bayes is:\\n',cm)\n",
    "print(\"\")\n",
    "\n",
    "accuracy = cross_val_score(nb, x_ros, y_ros, scoring='accuracy')\n",
    "print('Cross validation test results of accuracy:')\n",
    "print(accuracy)\n",
    "\n",
    "print(\"\")\n",
    "print(\"Accuracy Result of Gaussian Naive Bayes is:\",accuracy.mean() * 100)\n",
    "gnb=accuracy.mean() * 100"
   ]
  },
  {
   "cell_type": "code",
   "execution_count": 22,
   "metadata": {},
   "outputs": [
    {
     "data": {
      "image/png": "[encoded data removed]",
      "text/plain": [
       "<Figure size 360x360 with 1 Axes>"
      ]
     },
     "metadata": {
      "needs_background": "light"
     },
     "output_type": "display_data"
    }
   ],
   "source": [
    "def Bar_Chart():\n",
    "    import matplotlib.pyplot as plt\n",
    "    data=[gnb]\n",
    "    alg=\"Gaussian Naive Bayes\"\n",
    "    plt.figure(figsize=(5,5))\n",
    "    b=plt.bar(alg,data,color=(\"Blue\"))\n",
    "    plt.title(\"Accuracy Result of Gaussian Naive Bayes\",fontsize=15)\n",
    "    plt.legend(b,data,fontsize=9)\n",
    "Bar_Chart()"
   ]
  },
  {
   "cell_type": "code",
   "execution_count": 23,
   "metadata": {},
   "outputs": [
    {
     "name": "stdout",
     "output_type": "stream",
     "text": [
      "Confusion matrix-Gaussian Naive Bayes:\n",
      "[[218  88]\n",
      " [ 95 211]]\n"
     ]
    },
    {
     "data": {
      "image/png": "[encoded data removed]",
      "text/plain": [
       "<Figure size 432x288 with 2 Axes>"
      ]
     },
     "metadata": {
      "needs_background": "light"
     },
     "output_type": "display_data"
    }
   ],
   "source": [
    "def plot_confusion_matrix(cm, title='Confusion matrix-Gaussian Naive Bayes', cmap=plt.cm.BuPu):\n",
    "    plt.imshow(cm, interpolation='nearest', cmap=cmap)\n",
    "    plt.title(title)\n",
    "    plt.colorbar()\n",
    "\n",
    "cm1=confusion_matrix(y_test, predictNB)\n",
    "print('Confusion matrix-Gaussian Naive Bayes:')\n",
    "print(cm)\n",
    "plot_confusion_matrix(cm)"
   ]
  },
  {
   "cell_type": "code",
   "execution_count": null,
   "metadata": {},
   "outputs": [],
   "source": []
  },
  {
   "cell_type": "code",
   "execution_count": null,
   "metadata": {},
   "outputs": [],
   "source": []
  },
  {
   "cell_type": "code",
   "execution_count": null,
   "metadata": {},
   "outputs": [],
   "source": []
  },
  {
   "cell_type": "code",
   "execution_count": null,
   "metadata": {},
   "outputs": [],
   "source": []
  },
  {
   "cell_type": "code",
   "execution_count": null,
   "metadata": {},
   "outputs": [],
   "source": []
  }
 ],
 "metadata": {
  "kernelspec": {
   "display_name": "Python 3",
   "language": "python",
   "name": "python3"
  },
  "language_info": {
   "codemirror_mode": {
    "name": "ipython",
    "version": 3
   },
   "file_extension": ".py",
   "mimetype": "text/x-python",
   "name": "python",
   "nbconvert_exporter": "python",
   "pygments_lexer": "ipython3",
   "version": "3.8.5"
  }
 },
 "nbformat": 4,
 "nbformat_minor": 5
}
