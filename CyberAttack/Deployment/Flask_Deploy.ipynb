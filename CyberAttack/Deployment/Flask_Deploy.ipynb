{
 "cells": [
  {
   "cell_type": "code",
   "execution_count": null,
   "metadata": {},
   "outputs": [
    {
     "name": "stdout",
     "output_type": "stream",
     "text": [
      " * Serving Flask app \"__main__\" (lazy loading)\n",
      " * Environment: production\n",
      "   WARNING: This is a development server. Do not use it in a production deployment.\n",
      "   Use a production WSGI server instead.\n",
      " * Debug mode: off\n"
     ]
    },
    {
     "name": "stderr",
     "output_type": "stream",
     "text": [
      " * Running on http://localhost:8000/ (Press CTRL+C to quit)\n",
      "127.0.0.1 - - [21/Dec/2022 12:34:24] \"\u001b[37mGET / HTTP/1.1\u001b[0m\" 200 -\n",
      "127.0.0.1 - - [21/Dec/2022 12:34:24] \"\u001b[37mGET /static/css/bootstrap.min.css HTTP/1.1\u001b[0m\" 200 -\n",
      "127.0.0.1 - - [21/Dec/2022 12:34:24] \"\u001b[37mGET /static/image/ca1.jpg HTTP/1.1\u001b[0m\" 200 -\n",
      "127.0.0.1 - - [21/Dec/2022 12:34:25] \"\u001b[33mGET /favicon.ico HTTP/1.1\u001b[0m\" 404 -\n",
      "C:\\anaconda\\lib\\site-packages\\sklearn\\base.py:441: UserWarning: X does not have valid feature names, but RandomForestClassifier was fitted with feature names\n",
      "  warnings.warn(\n",
      "C:\\anaconda\\lib\\site-packages\\sklearn\\base.py:441: UserWarning: X does not have valid feature names, but RandomForestClassifier was fitted with feature names\n",
      "  warnings.warn(\n",
      "127.0.0.1 - - [21/Dec/2022 12:34:36] \"\u001b[37mPOST /predict HTTP/1.1\u001b[0m\" 200 -\n"
     ]
    },
    {
     "name": "stdout",
     "output_type": "stream",
     "text": [
      "[array(['2', '0', '1', '1', '2', '1', '1', '1', '1'], dtype='<U1')]\n",
      "[1]\n",
      "['2', '0', '1', '1', '2', '1', '1', '1', '1', '1']\n",
      "[1]\n",
      "1\n"
     ]
    }
   ],
   "source": [
    "import numpy as np\n",
    "from flask import Flask, request, jsonify, render_template\n",
    "import pickle\n",
    "import joblib\n",
    "\n",
    "app = Flask(__name__)\n",
    "model1 = joblib.load('Attack.pkl')\n",
    "model2 = joblib.load('Perpetrator.pkl')\n",
    "\n",
    "@app.route('/')\n",
    "def home():\n",
    "    return render_template('index.html')\n",
    "\n",
    "@app.route('/predict',methods=['POST'])\n",
    "def predict():\n",
    "    '''\n",
    "    For rendering results on HTML GUI\n",
    "    '''\n",
    "    int_features = [(x) for x in request.form.values()]\n",
    "    final_features = int_features[0:9]\n",
    "    final_features = [np.array(final_features)]\n",
    "    print(final_features)\n",
    "    predictionC = model1.predict(final_features)\n",
    "    print(predictionC)\n",
    "    output = str(predictionC[0])\n",
    "    \n",
    "    if output == '0':\n",
    "        a = 'Card Copying / Generating Devices'\n",
    "    elif output == '1':\n",
    "        a = 'Creating a Fake Shopping Site'\n",
    "    elif output == '2':\n",
    "        a = 'Hacking Tools or Malware'\n",
    "    elif output == '3':\n",
    "        a = 'Phishing Attack'\n",
    "    elif output == '4':\n",
    "        a = 'Receiving Public Data on Social Media'\n",
    "    elif output == '5':\n",
    "        a = 'Social Engineering'\n",
    "        \n",
    "    int_features.append(output)\n",
    "    print(int_features)\n",
    "    final_featuresY = [np.array(int_features)]\n",
    "    predictionY = model2.predict(final_featuresY)\n",
    "    print(predictionY)\n",
    "    outputY = predictionY[0]\n",
    "    print(outputY)\n",
    "    if outputY==0:\n",
    "        outputY='Known'\n",
    "    else:\n",
    "        outputY=\"UnKnown\"\n",
    "\n",
    "    return render_template('index.html', prediction_text1=f\"Attack Method is {a}\", prediction_text2=f\"Perpetrator is {outputY}\")\n",
    "\n",
    "\n",
    "if __name__ == \"__main__\":\n",
    "    app.run(host=\"localhost\", port=8000)\n"
   ]
  },
  {
   "cell_type": "code",
   "execution_count": null,
   "metadata": {},
   "outputs": [],
   "source": []
  },
  {
   "cell_type": "code",
   "execution_count": null,
   "metadata": {},
   "outputs": [],
   "source": []
  },
  {
   "cell_type": "code",
   "execution_count": null,
   "metadata": {},
   "outputs": [],
   "source": []
  }
 ],
 "metadata": {
  "kernelspec": {
   "display_name": "Python 3",
   "language": "python",
   "name": "python3"
  },
  "language_info": {
   "codemirror_mode": {
    "name": "ipython",
    "version": 3
   },
   "file_extension": ".py",
   "mimetype": "text/x-python",
   "name": "python",
   "nbconvert_exporter": "python",
   "pygments_lexer": "ipython3",
   "version": "3.8.5"
  }
 },
 "nbformat": 4,
 "nbformat_minor": 5
}
